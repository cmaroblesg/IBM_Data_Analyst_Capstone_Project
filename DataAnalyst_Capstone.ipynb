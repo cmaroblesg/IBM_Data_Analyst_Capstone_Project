{
 "cells": [
  {
   "cell_type": "code",
   "execution_count": 1,
   "metadata": {},
   "outputs": [
    {
     "name": "stdout",
     "output_type": "stream",
     "text": [
      "--2021-02-21 23:14:41--  https://cf-courses-data.s3.us.cloud-object-storage.appdomain.cloud/IBM-DA0321EN-SkillsNetwork/LargeData/m4_survey_data.sqlite\n",
      "Resolving cf-courses-data.s3.us.cloud-object-storage.appdomain.cloud (cf-courses-data.s3.us.cloud-object-storage.appdomain.cloud)... 169.63.118.104\n",
      "Connecting to cf-courses-data.s3.us.cloud-object-storage.appdomain.cloud (cf-courses-data.s3.us.cloud-object-storage.appdomain.cloud)|169.63.118.104|:443... connected.\n",
      "HTTP request sent, awaiting response... 200 OK\n",
      "Length: 36679680 (35M) [application/octet-stream]\n",
      "Saving to: ‘m4_survey_data.sqlite’\n",
      "\n",
      "m4_survey_data.sqli 100%[===================>]  34.98M  8.86MB/s    in 4.3s    \n",
      "\n",
      "2021-02-21 23:14:46 (8.17 MB/s) - ‘m4_survey_data.sqlite’ saved [36679680/36679680]\n",
      "\n"
     ]
    }
   ],
   "source": [
    "!wget https://cf-courses-data.s3.us.cloud-object-storage.appdomain.cloud/IBM-DA0321EN-SkillsNetwork/LargeData/m4_survey_data.sqlite\n",
    "!mv m4_survey_data.sqlite ./files"
   ]
  },
  {
   "cell_type": "code",
   "execution_count": 2,
   "metadata": {},
   "outputs": [],
   "source": [
    "from glob import glob\n",
    "import pandas as pd\n",
    "import sqlite3\n",
    "import os"
   ]
  },
  {
   "cell_type": "code",
   "execution_count": 3,
   "metadata": {},
   "outputs": [],
   "source": [
    "path_SQL = r'./files/*.sqlite'\n",
    "sql = glob(os.path.join(path_SQL))[0]\n",
    "country_region = pd.read_csv(os.path.join(r'./files','Country_Region.csv'))"
   ]
  },
  {
   "cell_type": "code",
   "execution_count": 4,
   "metadata": {},
   "outputs": [],
   "source": [
    "conn = sqlite3.connect(sql)"
   ]
  },
  {
   "cell_type": "code",
   "execution_count": 5,
   "metadata": {},
   "outputs": [
    {
     "data": {
      "text/html": [
       "<div>\n",
       "<style scoped>\n",
       "    .dataframe tbody tr th:only-of-type {\n",
       "        vertical-align: middle;\n",
       "    }\n",
       "\n",
       "    .dataframe tbody tr th {\n",
       "        vertical-align: top;\n",
       "    }\n",
       "\n",
       "    .dataframe thead th {\n",
       "        text-align: right;\n",
       "    }\n",
       "</style>\n",
       "<table border=\"1\" class=\"dataframe\">\n",
       "  <thead>\n",
       "    <tr style=\"text-align: right;\">\n",
       "      <th></th>\n",
       "      <th>Table_Name</th>\n",
       "    </tr>\n",
       "  </thead>\n",
       "  <tbody>\n",
       "    <tr>\n",
       "      <th>0</th>\n",
       "      <td>EduOther</td>\n",
       "    </tr>\n",
       "    <tr>\n",
       "      <th>1</th>\n",
       "      <td>DevType</td>\n",
       "    </tr>\n",
       "    <tr>\n",
       "      <th>2</th>\n",
       "      <td>LastInt</td>\n",
       "    </tr>\n",
       "    <tr>\n",
       "      <th>3</th>\n",
       "      <td>JobFactors</td>\n",
       "    </tr>\n",
       "    <tr>\n",
       "      <th>4</th>\n",
       "      <td>WorkPlan</td>\n",
       "    </tr>\n",
       "    <tr>\n",
       "      <th>5</th>\n",
       "      <td>WorkChallenge</td>\n",
       "    </tr>\n",
       "    <tr>\n",
       "      <th>6</th>\n",
       "      <td>LanguageWorkedWith</td>\n",
       "    </tr>\n",
       "    <tr>\n",
       "      <th>7</th>\n",
       "      <td>LanguageDesireNextYear</td>\n",
       "    </tr>\n",
       "    <tr>\n",
       "      <th>8</th>\n",
       "      <td>DatabaseWorkedWith</td>\n",
       "    </tr>\n",
       "    <tr>\n",
       "      <th>9</th>\n",
       "      <td>DatabaseDesireNextYear</td>\n",
       "    </tr>\n",
       "    <tr>\n",
       "      <th>10</th>\n",
       "      <td>PlatformWorkedWith</td>\n",
       "    </tr>\n",
       "    <tr>\n",
       "      <th>11</th>\n",
       "      <td>PlatformDesireNextYear</td>\n",
       "    </tr>\n",
       "    <tr>\n",
       "      <th>12</th>\n",
       "      <td>WebFrameWorkedWith</td>\n",
       "    </tr>\n",
       "    <tr>\n",
       "      <th>13</th>\n",
       "      <td>WebFrameDesireNextYear</td>\n",
       "    </tr>\n",
       "    <tr>\n",
       "      <th>14</th>\n",
       "      <td>MiscTechWorkedWith</td>\n",
       "    </tr>\n",
       "    <tr>\n",
       "      <th>15</th>\n",
       "      <td>MiscTechDesireNextYear</td>\n",
       "    </tr>\n",
       "    <tr>\n",
       "      <th>16</th>\n",
       "      <td>DevEnviron</td>\n",
       "    </tr>\n",
       "    <tr>\n",
       "      <th>17</th>\n",
       "      <td>Containers</td>\n",
       "    </tr>\n",
       "    <tr>\n",
       "      <th>18</th>\n",
       "      <td>SOVisitTo</td>\n",
       "    </tr>\n",
       "    <tr>\n",
       "      <th>19</th>\n",
       "      <td>SONewContent</td>\n",
       "    </tr>\n",
       "    <tr>\n",
       "      <th>20</th>\n",
       "      <td>Gender</td>\n",
       "    </tr>\n",
       "    <tr>\n",
       "      <th>21</th>\n",
       "      <td>Sexuality</td>\n",
       "    </tr>\n",
       "    <tr>\n",
       "      <th>22</th>\n",
       "      <td>Ethnicity</td>\n",
       "    </tr>\n",
       "    <tr>\n",
       "      <th>23</th>\n",
       "      <td>master</td>\n",
       "    </tr>\n",
       "  </tbody>\n",
       "</table>\n",
       "</div>"
      ],
      "text/plain": [
       "                Table_Name\n",
       "0                 EduOther\n",
       "1                  DevType\n",
       "2                  LastInt\n",
       "3               JobFactors\n",
       "4                 WorkPlan\n",
       "5            WorkChallenge\n",
       "6       LanguageWorkedWith\n",
       "7   LanguageDesireNextYear\n",
       "8       DatabaseWorkedWith\n",
       "9   DatabaseDesireNextYear\n",
       "10      PlatformWorkedWith\n",
       "11  PlatformDesireNextYear\n",
       "12      WebFrameWorkedWith\n",
       "13  WebFrameDesireNextYear\n",
       "14      MiscTechWorkedWith\n",
       "15  MiscTechDesireNextYear\n",
       "16              DevEnviron\n",
       "17              Containers\n",
       "18               SOVisitTo\n",
       "19            SONewContent\n",
       "20                  Gender\n",
       "21               Sexuality\n",
       "22               Ethnicity\n",
       "23                  master"
      ]
     },
     "execution_count": 5,
     "metadata": {},
     "output_type": "execute_result"
    }
   ],
   "source": [
    "query = '''\n",
    "    select name as Table_Name from sqlite_master where\n",
    "    type = 'table';\n",
    "'''\n",
    "\n",
    "tables = pd.read_sql_query(query,conn)\n",
    "tables"
   ]
  },
  {
   "cell_type": "code",
   "execution_count": 6,
   "metadata": {},
   "outputs": [],
   "source": [
    "EduOther = pd.read_sql_query('Select * from EduOther;',conn)\n",
    "DevType = pd.read_sql_query('Select * from DevType;',conn)\n",
    "LastInt = pd.read_sql_query('Select * from LastInt;',conn)\n",
    "JobFactors = pd.read_sql_query('Select * from JobFactors;',conn)\n",
    "WorkPlan = pd.read_sql_query('Select * from WorkPlan;',conn)\n",
    "WorkChallenge = pd.read_sql_query('Select * from WorkChallenge;',conn)\n",
    "LanguageWorkedWith = pd.read_sql_query('Select * from LanguageWorkedWith;',conn)\n",
    "LanguageDesireNextYear = pd.read_sql_query('Select * from LanguageDesireNextYear;',conn)\n",
    "DatabaseWorkedWith = pd.read_sql_query('Select * from DatabaseWorkedWith;',conn)\n",
    "DatabaseDesireNextYear = pd.read_sql_query('Select * from DatabaseDesireNextYear;',conn)\n",
    "PlatformWorkedWith = pd.read_sql_query('Select * from PlatformWorkedWith;',conn)\n",
    "PlatformDesireNextYear = pd.read_sql_query('Select * from PlatformDesireNextYear;',conn)\n",
    "WebFrameWorkedWith = pd.read_sql_query('Select * from WebFrameWorkedWith;',conn)\n",
    "WebFrameDesireNextYear = pd.read_sql_query('Select * from WebFrameDesireNextYear;',conn)\n",
    "MiscTechWorkedWith = pd.read_sql_query('Select * from MiscTechWorkedWith;',conn)\n",
    "MiscTechDesireNextYear = pd.read_sql_query('Select * from MiscTechDesireNextYear;',conn)\n",
    "DevEnviron = pd.read_sql_query('Select * from DevEnviron;',conn)\n",
    "Containers = pd.read_sql_query('Select * from Containers;',conn)\n",
    "SOVisitTo = pd.read_sql_query('Select * from SOVisitTo;',conn)\n",
    "SONewContent = pd.read_sql_query('Select * from SONewContent;',conn)\n",
    "Gender = pd.read_sql_query('Select * from Gender;',conn)\n",
    "Sexuality = pd.read_sql_query('Select * from Sexuality;',conn)\n",
    "Ethnicity = pd.read_sql_query('Select * from Ethnicity;',conn)\n",
    "master = pd.read_sql_query('Select * from master;',conn)"
   ]
  },
  {
   "cell_type": "code",
   "execution_count": 7,
   "metadata": {},
   "outputs": [],
   "source": [
    "conn.close()"
   ]
  },
  {
   "cell_type": "code",
   "execution_count": 8,
   "metadata": {},
   "outputs": [],
   "source": [
    "data = master.join(country_region.set_index(['Country']),on=['Country'])\n",
    "data = data.join(Gender.set_index(['Respondent']),on=['Respondent'])\n",
    "data.loc[(~data['Gender'].isin(['Man','Woman'])),'Gender'] = 'Not specified'\n",
    "data.loc[(data['Region'].isna()),'Region'] = 'Other Region (Not Listed Above)'\n",
    "data.loc[(data['Sub Region'].isna()),'Sub Region'] = 'Sub Region Country (Not Listed Above)'"
   ]
  },
  {
   "cell_type": "code",
   "execution_count": 9,
   "metadata": {},
   "outputs": [
    {
     "name": "stdout",
     "output_type": "stream",
     "text": [
      "Total number of respondents: 11,451\n"
     ]
    }
   ],
   "source": [
    "regionRespondent = data.groupby(['Region'],as_index=False)['Respondent'].count().sort_values(by='Respondent',ascending=False)\n",
    "regionRespondent = regionRespondent.reset_index(drop=True)\n",
    "print('Total number of respondents: {:,.0f}'.format(regionRespondent['Respondent'].sum()))"
   ]
  },
  {
   "cell_type": "code",
   "execution_count": 10,
   "metadata": {},
   "outputs": [
    {
     "name": "stderr",
     "output_type": "stream",
     "text": [
      "<ipython-input-10-d05dd14a9067>:24: UserWarning: FixedFormatter should only be used together with FixedLocator\n",
      "  ax.set_yticklabels(ylabels, fontsize=14)\n"
     ]
    },
    {
     "data": {
      "image/png": "[encoded data removed]",
      "text/plain": [
       "<Figure size 1080x504 with 1 Axes>"
      ]
     },
     "metadata": {
      "needs_background": "light"
     },
     "output_type": "display_data"
    }
   ],
   "source": [
    "import matplotlib\n",
    "import matplotlib.pyplot as plt\n",
    "import numpy as np\n",
    "\n",
    "\n",
    "labels = regionRespondent['Region'].drop_duplicates().tolist()\n",
    "countRespondent = regionRespondent['Respondent'].drop_duplicates().tolist()\n",
    "\n",
    "x = np.arange(len(labels))  # the label locations\n",
    "width = 0.75  # the width of the bars\n",
    "\n",
    "fig, ax = plt.subplots(figsize=(15,7))\n",
    "rects1 = ax.bar(x, countRespondent, width, label='Respondents')\n",
    "ylabels=['0','1,000','2,000','3,000','4,000','5,000']\n",
    "y = np.arange(len(ylabels))\n",
    "\n",
    "# Add some text for labels, title and custom x-axis tick labels, etc.\n",
    "ax.set_ylabel('Respondents', fontsize=16)\n",
    "ax.set_xlabel('Regions', fontsize=16)\n",
    "ax.set_title('Respondents by Region', fontsize = 20)\n",
    "ax.set_xticks(x)\n",
    "ax.set_xticklabels(labels,fontsize=14)\n",
    "#ax.set_yticks(ylabels)\n",
    "ax.set_yticklabels(ylabels, fontsize=14)\n",
    "ax.legend(fontsize=16)\n",
    "\n",
    "\n",
    "def autolabel(rects):\n",
    "    \"\"\"Attach a text label above each bar in *rects*, displaying its height.\"\"\"\n",
    "    for rect in rects:\n",
    "        height = rect.get_height()\n",
    "        ax.annotate('{:,.0f}'.format(height),\n",
    "                    xy=(rect.get_x() + rect.get_width() / 2, height),\n",
    "                    xytext=(0, 3),  # 3 points vertical offset\n",
    "                    textcoords=\"offset points\",\n",
    "                    ha='center', va='bottom',fontsize=16)\n",
    "\n",
    "\n",
    "autolabel(rects1)\n",
    "fig.tight_layout()\n",
    "\n",
    "plt.show()"
   ]
  },
  {
   "cell_type": "code",
   "execution_count": 11,
   "metadata": {},
   "outputs": [
    {
     "data": {
      "text/html": [
       "<div>\n",
       "<style scoped>\n",
       "    .dataframe tbody tr th:only-of-type {\n",
       "        vertical-align: middle;\n",
       "    }\n",
       "\n",
       "    .dataframe tbody tr th {\n",
       "        vertical-align: top;\n",
       "    }\n",
       "\n",
       "    .dataframe thead th {\n",
       "        text-align: right;\n",
       "    }\n",
       "</style>\n",
       "<table border=\"1\" class=\"dataframe\">\n",
       "  <thead>\n",
       "    <tr style=\"text-align: right;\">\n",
       "      <th></th>\n",
       "      <th>Gender</th>\n",
       "      <th>Respondent</th>\n",
       "    </tr>\n",
       "  </thead>\n",
       "  <tbody>\n",
       "    <tr>\n",
       "      <th>0</th>\n",
       "      <td>Man</td>\n",
       "      <td>10517</td>\n",
       "    </tr>\n",
       "    <tr>\n",
       "      <th>1</th>\n",
       "      <td>Not specified</td>\n",
       "      <td>178</td>\n",
       "    </tr>\n",
       "    <tr>\n",
       "      <th>2</th>\n",
       "      <td>Woman</td>\n",
       "      <td>756</td>\n",
       "    </tr>\n",
       "  </tbody>\n",
       "</table>\n",
       "</div>"
      ],
      "text/plain": [
       "          Gender  Respondent\n",
       "0            Man       10517\n",
       "1  Not specified         178\n",
       "2          Woman         756"
      ]
     },
     "execution_count": 11,
     "metadata": {},
     "output_type": "execute_result"
    }
   ],
   "source": [
    "genderRespondent = data.groupby(['Gender'],as_index=False)['Respondent'].count()\n",
    "genderRespondent"
   ]
  },
  {
   "cell_type": "code",
   "execution_count": 12,
   "metadata": {},
   "outputs": [
    {
     "data": {
      "image/png": "[encoded data removed]",
      "text/plain": [
       "<Figure size 1080x504 with 1 Axes>"
      ]
     },
     "metadata": {},
     "output_type": "display_data"
    }
   ],
   "source": [
    "import numpy as np\n",
    "import matplotlib.pyplot as plt\n",
    "\n",
    "fig, ax = plt.subplots(figsize=(15, 7), subplot_kw=dict(aspect=\"equal\"))\n",
    "\n",
    "amount = genderRespondent['Respondent'].drop_duplicates().tolist()\n",
    "labels = genderRespondent['Gender'].drop_duplicates().tolist()\n",
    "\n",
    "\n",
    "def func(pct, allvals):\n",
    "    absolute = int(pct/100.*np.sum(allvals))\n",
    "    return \"{:.1f}%\\n\".format(pct, absolute)\n",
    "\n",
    "\n",
    "wedges, texts, autotexts = ax.pie(amount, autopct=lambda pct: func(pct, amount),\n",
    "                                  textprops=dict(color=\"w\"))\n",
    "\n",
    "ax.legend(wedges, labels,\n",
    "          title=\"Gender\",\n",
    "          loc=\"center left\",\n",
    "          bbox_to_anchor=(1, 0, 0.5, 1),fontsize=14)\n",
    "\n",
    "plt.setp(autotexts, size=14, weight=\"bold\")\n",
    "\n",
    "ax.set_title(\"Respondent classified by Gender\",fontsize=20)\n",
    "\n",
    "plt.show()"
   ]
  },
  {
   "cell_type": "code",
   "execution_count": 13,
   "metadata": {},
   "outputs": [
    {
     "data": {
      "text/html": [
       "<div>\n",
       "<style scoped>\n",
       "    .dataframe tbody tr th:only-of-type {\n",
       "        vertical-align: middle;\n",
       "    }\n",
       "\n",
       "    .dataframe tbody tr th {\n",
       "        vertical-align: top;\n",
       "    }\n",
       "\n",
       "    .dataframe thead th {\n",
       "        text-align: right;\n",
       "    }\n",
       "</style>\n",
       "<table border=\"1\" class=\"dataframe\">\n",
       "  <thead>\n",
       "    <tr style=\"text-align: right;\">\n",
       "      <th></th>\n",
       "      <th>index</th>\n",
       "      <th>Respondent</th>\n",
       "      <th>CompTotal</th>\n",
       "      <th>ConvertedComp</th>\n",
       "      <th>WorkWeekHrs</th>\n",
       "      <th>CodeRevHrs</th>\n",
       "      <th>Age</th>\n",
       "    </tr>\n",
       "  </thead>\n",
       "  <tbody>\n",
       "    <tr>\n",
       "      <th>count</th>\n",
       "      <td>11451.000000</td>\n",
       "      <td>11451.000000</td>\n",
       "      <td>1.064000e+04</td>\n",
       "      <td>1.063300e+04</td>\n",
       "      <td>11329.000000</td>\n",
       "      <td>9018.000000</td>\n",
       "      <td>11161.000000</td>\n",
       "    </tr>\n",
       "    <tr>\n",
       "      <th>mean</th>\n",
       "      <td>5699.840538</td>\n",
       "      <td>12493.334381</td>\n",
       "      <td>7.545607e+05</td>\n",
       "      <td>1.312641e+05</td>\n",
       "      <td>42.060023</td>\n",
       "      <td>4.786069</td>\n",
       "      <td>30.775827</td>\n",
       "    </tr>\n",
       "    <tr>\n",
       "      <th>std</th>\n",
       "      <td>3290.268843</td>\n",
       "      <td>7235.012753</td>\n",
       "      <td>9.682556e+06</td>\n",
       "      <td>2.941350e+05</td>\n",
       "      <td>24.628072</td>\n",
       "      <td>4.586479</td>\n",
       "      <td>7.394970</td>\n",
       "    </tr>\n",
       "    <tr>\n",
       "      <th>min</th>\n",
       "      <td>0.000000</td>\n",
       "      <td>4.000000</td>\n",
       "      <td>0.000000e+00</td>\n",
       "      <td>0.000000e+00</td>\n",
       "      <td>3.000000</td>\n",
       "      <td>0.000000</td>\n",
       "      <td>16.000000</td>\n",
       "    </tr>\n",
       "    <tr>\n",
       "      <th>25%</th>\n",
       "      <td>2851.500000</td>\n",
       "      <td>6266.500000</td>\n",
       "      <td>2.500000e+04</td>\n",
       "      <td>2.680800e+04</td>\n",
       "      <td>40.000000</td>\n",
       "      <td>2.000000</td>\n",
       "      <td>25.000000</td>\n",
       "    </tr>\n",
       "    <tr>\n",
       "      <th>50%</th>\n",
       "      <td>5699.000000</td>\n",
       "      <td>12485.000000</td>\n",
       "      <td>6.500000e+04</td>\n",
       "      <td>5.774400e+04</td>\n",
       "      <td>40.000000</td>\n",
       "      <td>4.000000</td>\n",
       "      <td>29.000000</td>\n",
       "    </tr>\n",
       "    <tr>\n",
       "      <th>75%</th>\n",
       "      <td>8551.500000</td>\n",
       "      <td>18792.500000</td>\n",
       "      <td>1.200000e+05</td>\n",
       "      <td>1.000000e+05</td>\n",
       "      <td>43.000000</td>\n",
       "      <td>5.000000</td>\n",
       "      <td>35.000000</td>\n",
       "    </tr>\n",
       "    <tr>\n",
       "      <th>max</th>\n",
       "      <td>11397.000000</td>\n",
       "      <td>25142.000000</td>\n",
       "      <td>7.000000e+08</td>\n",
       "      <td>2.000000e+06</td>\n",
       "      <td>1012.000000</td>\n",
       "      <td>99.000000</td>\n",
       "      <td>99.000000</td>\n",
       "    </tr>\n",
       "  </tbody>\n",
       "</table>\n",
       "</div>"
      ],
      "text/plain": [
       "              index    Respondent     CompTotal  ConvertedComp   WorkWeekHrs  \\\n",
       "count  11451.000000  11451.000000  1.064000e+04   1.063300e+04  11329.000000   \n",
       "mean    5699.840538  12493.334381  7.545607e+05   1.312641e+05     42.060023   \n",
       "std     3290.268843   7235.012753  9.682556e+06   2.941350e+05     24.628072   \n",
       "min        0.000000      4.000000  0.000000e+00   0.000000e+00      3.000000   \n",
       "25%     2851.500000   6266.500000  2.500000e+04   2.680800e+04     40.000000   \n",
       "50%     5699.000000  12485.000000  6.500000e+04   5.774400e+04     40.000000   \n",
       "75%     8551.500000  18792.500000  1.200000e+05   1.000000e+05     43.000000   \n",
       "max    11397.000000  25142.000000  7.000000e+08   2.000000e+06   1012.000000   \n",
       "\n",
       "        CodeRevHrs           Age  \n",
       "count  9018.000000  11161.000000  \n",
       "mean      4.786069     30.775827  \n",
       "std       4.586479      7.394970  \n",
       "min       0.000000     16.000000  \n",
       "25%       2.000000     25.000000  \n",
       "50%       4.000000     29.000000  \n",
       "75%       5.000000     35.000000  \n",
       "max      99.000000     99.000000  "
      ]
     },
     "execution_count": 13,
     "metadata": {},
     "output_type": "execute_result"
    }
   ],
   "source": [
    "data.describe()"
   ]
  },
  {
   "cell_type": "code",
   "execution_count": 14,
   "metadata": {},
   "outputs": [
    {
     "data": {
      "text/plain": [
       "Index(['index', 'Respondent', 'MainBranch', 'Hobbyist', 'OpenSourcer',\n",
       "       'OpenSource', 'Employment', 'Country', 'Student', 'EdLevel',\n",
       "       'UndergradMajor', 'OrgSize', 'YearsCode', 'Age1stCode', 'YearsCodePro',\n",
       "       'CareerSat', 'JobSat', 'MgrIdiot', 'MgrMoney', 'MgrWant', 'JobSeek',\n",
       "       'LastHireDate', 'FizzBuzz', 'ResumeUpdate', 'CurrencySymbol',\n",
       "       'CurrencyDesc', 'CompTotal', 'CompFreq', 'ConvertedComp', 'WorkWeekHrs',\n",
       "       'WorkRemote', 'WorkLoc', 'ImpSyn', 'CodeRev', 'CodeRevHrs', 'UnitTests',\n",
       "       'PurchaseHow', 'PurchaseWhat', 'OpSys', 'BlockchainOrg', 'BlockchainIs',\n",
       "       'BetterLife', 'ITperson', 'OffOn', 'SocialMedia', 'Extraversion',\n",
       "       'ScreenName', 'SOVisit1st', 'SOVisitFreq', 'SOFindAnswer',\n",
       "       'SOTimeSaved', 'SOHowMuchTime', 'SOAccount', 'SOPartFreq', 'SOJobs',\n",
       "       'EntTeams', 'SOComm', 'WelcomeChange', 'Age', 'Trans', 'Dependents',\n",
       "       'SurveyLength', 'SurveyEase', 'Sub Region', 'Region', 'Gender'],\n",
       "      dtype='object')"
      ]
     },
     "execution_count": 14,
     "metadata": {},
     "output_type": "execute_result"
    }
   ],
   "source": [
    "data.columns"
   ]
  },
  {
   "cell_type": "code",
   "execution_count": 20,
   "metadata": {},
   "outputs": [
    {
     "data": {
      "text/html": [
       "<div>\n",
       "<style scoped>\n",
       "    .dataframe tbody tr th:only-of-type {\n",
       "        vertical-align: middle;\n",
       "    }\n",
       "\n",
       "    .dataframe tbody tr th {\n",
       "        vertical-align: top;\n",
       "    }\n",
       "\n",
       "    .dataframe thead th {\n",
       "        text-align: right;\n",
       "    }\n",
       "</style>\n",
       "<table border=\"1\" class=\"dataframe\">\n",
       "  <thead>\n",
       "    <tr style=\"text-align: right;\">\n",
       "      <th></th>\n",
       "      <th>index</th>\n",
       "      <th>Respondent</th>\n",
       "      <th>CompTotal</th>\n",
       "      <th>ConvertedComp</th>\n",
       "      <th>WorkWeekHrs</th>\n",
       "      <th>CodeRevHrs</th>\n",
       "      <th>Age</th>\n",
       "    </tr>\n",
       "  </thead>\n",
       "  <tbody>\n",
       "    <tr>\n",
       "      <th>count</th>\n",
       "      <td>11451.000000</td>\n",
       "      <td>11451.000000</td>\n",
       "      <td>1.064000e+04</td>\n",
       "      <td>1.063300e+04</td>\n",
       "      <td>11329.000000</td>\n",
       "      <td>9018.000000</td>\n",
       "      <td>11161.000000</td>\n",
       "    </tr>\n",
       "    <tr>\n",
       "      <th>mean</th>\n",
       "      <td>5699.840538</td>\n",
       "      <td>12493.334381</td>\n",
       "      <td>7.545607e+05</td>\n",
       "      <td>1.312641e+05</td>\n",
       "      <td>42.060023</td>\n",
       "      <td>4.786069</td>\n",
       "      <td>30.775827</td>\n",
       "    </tr>\n",
       "    <tr>\n",
       "      <th>std</th>\n",
       "      <td>3290.268843</td>\n",
       "      <td>7235.012753</td>\n",
       "      <td>9.682556e+06</td>\n",
       "      <td>2.941350e+05</td>\n",
       "      <td>24.628072</td>\n",
       "      <td>4.586479</td>\n",
       "      <td>7.394970</td>\n",
       "    </tr>\n",
       "    <tr>\n",
       "      <th>min</th>\n",
       "      <td>0.000000</td>\n",
       "      <td>4.000000</td>\n",
       "      <td>0.000000e+00</td>\n",
       "      <td>0.000000e+00</td>\n",
       "      <td>3.000000</td>\n",
       "      <td>0.000000</td>\n",
       "      <td>16.000000</td>\n",
       "    </tr>\n",
       "    <tr>\n",
       "      <th>25%</th>\n",
       "      <td>2851.500000</td>\n",
       "      <td>6266.500000</td>\n",
       "      <td>2.500000e+04</td>\n",
       "      <td>2.680800e+04</td>\n",
       "      <td>40.000000</td>\n",
       "      <td>2.000000</td>\n",
       "      <td>25.000000</td>\n",
       "    </tr>\n",
       "    <tr>\n",
       "      <th>50%</th>\n",
       "      <td>5699.000000</td>\n",
       "      <td>12485.000000</td>\n",
       "      <td>6.500000e+04</td>\n",
       "      <td>5.774400e+04</td>\n",
       "      <td>40.000000</td>\n",
       "      <td>4.000000</td>\n",
       "      <td>29.000000</td>\n",
       "    </tr>\n",
       "    <tr>\n",
       "      <th>75%</th>\n",
       "      <td>8551.500000</td>\n",
       "      <td>18792.500000</td>\n",
       "      <td>1.200000e+05</td>\n",
       "      <td>1.000000e+05</td>\n",
       "      <td>43.000000</td>\n",
       "      <td>5.000000</td>\n",
       "      <td>35.000000</td>\n",
       "    </tr>\n",
       "    <tr>\n",
       "      <th>max</th>\n",
       "      <td>11397.000000</td>\n",
       "      <td>25142.000000</td>\n",
       "      <td>7.000000e+08</td>\n",
       "      <td>2.000000e+06</td>\n",
       "      <td>1012.000000</td>\n",
       "      <td>99.000000</td>\n",
       "      <td>99.000000</td>\n",
       "    </tr>\n",
       "  </tbody>\n",
       "</table>\n",
       "</div>"
      ],
      "text/plain": [
       "              index    Respondent     CompTotal  ConvertedComp   WorkWeekHrs  \\\n",
       "count  11451.000000  11451.000000  1.064000e+04   1.063300e+04  11329.000000   \n",
       "mean    5699.840538  12493.334381  7.545607e+05   1.312641e+05     42.060023   \n",
       "std     3290.268843   7235.012753  9.682556e+06   2.941350e+05     24.628072   \n",
       "min        0.000000      4.000000  0.000000e+00   0.000000e+00      3.000000   \n",
       "25%     2851.500000   6266.500000  2.500000e+04   2.680800e+04     40.000000   \n",
       "50%     5699.000000  12485.000000  6.500000e+04   5.774400e+04     40.000000   \n",
       "75%     8551.500000  18792.500000  1.200000e+05   1.000000e+05     43.000000   \n",
       "max    11397.000000  25142.000000  7.000000e+08   2.000000e+06   1012.000000   \n",
       "\n",
       "        CodeRevHrs           Age  \n",
       "count  9018.000000  11161.000000  \n",
       "mean      4.786069     30.775827  \n",
       "std       4.586479      7.394970  \n",
       "min       0.000000     16.000000  \n",
       "25%       2.000000     25.000000  \n",
       "50%       4.000000     29.000000  \n",
       "75%       5.000000     35.000000  \n",
       "max      99.000000     99.000000  "
      ]
     },
     "execution_count": 20,
     "metadata": {},
     "output_type": "execute_result"
    }
   ],
   "source": [
    "data.describe()"
   ]
  },
  {
   "cell_type": "code",
   "execution_count": 21,
   "metadata": {},
   "outputs": [],
   "source": [
    "data2 = pd.read_csv(os.path.join(r'./files','m5_survey_data_technologies_normalised.csv'))"
   ]
  },
  {
   "cell_type": "code",
   "execution_count": 41,
   "metadata": {},
   "outputs": [],
   "source": [
    "data2 = data2[~data2['Respondent'].isna()]\n",
    "data2['Respondent'] = data2['Respondent'].astype(int)\n",
    "topProg = data2.groupby(['LanguageWorkedWith'],as_index=False)['Respondent'].count().sort_values(by=['Respondent'],ascending=False).head()"
   ]
  },
  {
   "cell_type": "code",
   "execution_count": 42,
   "metadata": {},
   "outputs": [
    {
     "data": {
      "image/png": "[encoded data removed]",
      "text/plain": [
       "<Figure size 1080x504 with 1 Axes>"
      ]
     },
     "metadata": {
      "needs_background": "light"
     },
     "output_type": "display_data"
    }
   ],
   "source": [
    "import matplotlib\n",
    "import matplotlib.pyplot as plt\n",
    "import numpy as np\n",
    "\n",
    "\n",
    "labels = topProg['LanguageWorkedWith'].drop_duplicates().tolist()\n",
    "countRespondent = topProg['Respondent'].drop_duplicates().tolist()\n",
    "\n",
    "x = np.arange(len(labels))  # the label locations\n",
    "width = 0.75  # the width of the bars\n",
    "\n",
    "fig, ax = plt.subplots(figsize=(15,7))\n",
    "rects1 = ax.bar(x, countRespondent, width, label='Respondents')\n",
    "\n",
    "# Add some text for labels, title and custom x-axis tick labels, etc.\n",
    "ax.set_ylabel('Respondents', fontsize=16)\n",
    "ax.set_xlabel('Language Worked With', fontsize=16)\n",
    "ax.set_title('Respondents by Region', fontsize = 20)\n",
    "ax.set_xticks(x)\n",
    "ax.set_xticklabels(labels,fontsize=14)\n",
    "ax.legend(fontsize=16)\n",
    "\n",
    "\n",
    "def autolabel(rects):\n",
    "    \"\"\"Attach a text label above each bar in *rects*, displaying its height.\"\"\"\n",
    "    for rect in rects:\n",
    "        height = rect.get_height()\n",
    "        ax.annotate('{:,.0f}'.format(height),\n",
    "                    xy=(rect.get_x() + rect.get_width() / 2, height),\n",
    "                    xytext=(0, 3),  # 3 points vertical offset\n",
    "                    textcoords=\"offset points\",\n",
    "                    ha='center', va='bottom',fontsize=16)\n",
    "\n",
    "\n",
    "autolabel(rects1)\n",
    "fig.tight_layout()\n",
    "\n",
    "plt.show()"
   ]
  },
  {
   "cell_type": "code",
   "execution_count": 43,
   "metadata": {},
   "outputs": [
    {
     "data": {
      "text/plain": [
       "Index(['index', 'Respondent', 'MainBranch', 'Hobbyist', 'OpenSourcer',\n",
       "       'OpenSource', 'Employment', 'Country', 'Student', 'EdLevel',\n",
       "       'UndergradMajor', 'OrgSize', 'YearsCode', 'Age1stCode', 'YearsCodePro',\n",
       "       'CareerSat', 'JobSat', 'MgrIdiot', 'MgrMoney', 'MgrWant', 'JobSeek',\n",
       "       'LastHireDate', 'FizzBuzz', 'ResumeUpdate', 'CurrencySymbol',\n",
       "       'CurrencyDesc', 'CompTotal', 'CompFreq', 'ConvertedComp', 'WorkWeekHrs',\n",
       "       'WorkRemote', 'WorkLoc', 'ImpSyn', 'CodeRev', 'CodeRevHrs', 'UnitTests',\n",
       "       'PurchaseHow', 'PurchaseWhat', 'OpSys', 'BlockchainOrg', 'BlockchainIs',\n",
       "       'BetterLife', 'ITperson', 'OffOn', 'SocialMedia', 'Extraversion',\n",
       "       'ScreenName', 'SOVisit1st', 'SOVisitFreq', 'SOFindAnswer',\n",
       "       'SOTimeSaved', 'SOHowMuchTime', 'SOAccount', 'SOPartFreq', 'SOJobs',\n",
       "       'EntTeams', 'SOComm', 'WelcomeChange', 'Age', 'Trans', 'Dependents',\n",
       "       'SurveyLength', 'SurveyEase'],\n",
       "      dtype='object')"
      ]
     },
     "execution_count": 43,
     "metadata": {},
     "output_type": "execute_result"
    }
   ],
   "source": [
    "master.columns"
   ]
  },
  {
   "cell_type": "code",
   "execution_count": 44,
   "metadata": {},
   "outputs": [
    {
     "data": {
      "text/html": [
       "<div>\n",
       "<style scoped>\n",
       "    .dataframe tbody tr th:only-of-type {\n",
       "        vertical-align: middle;\n",
       "    }\n",
       "\n",
       "    .dataframe tbody tr th {\n",
       "        vertical-align: top;\n",
       "    }\n",
       "\n",
       "    .dataframe thead th {\n",
       "        text-align: right;\n",
       "    }\n",
       "</style>\n",
       "<table border=\"1\" class=\"dataframe\">\n",
       "  <thead>\n",
       "    <tr style=\"text-align: right;\">\n",
       "      <th></th>\n",
       "      <th>index</th>\n",
       "      <th>Respondent</th>\n",
       "      <th>CompTotal</th>\n",
       "      <th>ConvertedComp</th>\n",
       "      <th>WorkWeekHrs</th>\n",
       "      <th>CodeRevHrs</th>\n",
       "      <th>Age</th>\n",
       "    </tr>\n",
       "  </thead>\n",
       "  <tbody>\n",
       "    <tr>\n",
       "      <th>count</th>\n",
       "      <td>11398.000000</td>\n",
       "      <td>11398.000000</td>\n",
       "      <td>1.058900e+04</td>\n",
       "      <td>1.058200e+04</td>\n",
       "      <td>11276.000000</td>\n",
       "      <td>8972.000000</td>\n",
       "      <td>11111.000000</td>\n",
       "    </tr>\n",
       "    <tr>\n",
       "      <th>mean</th>\n",
       "      <td>5698.500000</td>\n",
       "      <td>12490.392437</td>\n",
       "      <td>7.570477e+05</td>\n",
       "      <td>1.315967e+05</td>\n",
       "      <td>42.064606</td>\n",
       "      <td>4.781071</td>\n",
       "      <td>30.779318</td>\n",
       "    </tr>\n",
       "    <tr>\n",
       "      <th>std</th>\n",
       "      <td>3290.463519</td>\n",
       "      <td>7235.461999</td>\n",
       "      <td>9.705598e+06</td>\n",
       "      <td>2.947865e+05</td>\n",
       "      <td>24.672741</td>\n",
       "      <td>4.567060</td>\n",
       "      <td>7.393680</td>\n",
       "    </tr>\n",
       "    <tr>\n",
       "      <th>min</th>\n",
       "      <td>0.000000</td>\n",
       "      <td>4.000000</td>\n",
       "      <td>0.000000e+00</td>\n",
       "      <td>0.000000e+00</td>\n",
       "      <td>3.000000</td>\n",
       "      <td>0.000000</td>\n",
       "      <td>16.000000</td>\n",
       "    </tr>\n",
       "    <tr>\n",
       "      <th>25%</th>\n",
       "      <td>2849.250000</td>\n",
       "      <td>6264.250000</td>\n",
       "      <td>2.500000e+04</td>\n",
       "      <td>2.686800e+04</td>\n",
       "      <td>40.000000</td>\n",
       "      <td>2.000000</td>\n",
       "      <td>25.000000</td>\n",
       "    </tr>\n",
       "    <tr>\n",
       "      <th>50%</th>\n",
       "      <td>5698.500000</td>\n",
       "      <td>12484.000000</td>\n",
       "      <td>6.500000e+04</td>\n",
       "      <td>5.774500e+04</td>\n",
       "      <td>40.000000</td>\n",
       "      <td>4.000000</td>\n",
       "      <td>29.000000</td>\n",
       "    </tr>\n",
       "    <tr>\n",
       "      <th>75%</th>\n",
       "      <td>8547.750000</td>\n",
       "      <td>18784.750000</td>\n",
       "      <td>1.200000e+05</td>\n",
       "      <td>1.000000e+05</td>\n",
       "      <td>43.000000</td>\n",
       "      <td>5.000000</td>\n",
       "      <td>35.000000</td>\n",
       "    </tr>\n",
       "    <tr>\n",
       "      <th>max</th>\n",
       "      <td>11397.000000</td>\n",
       "      <td>25142.000000</td>\n",
       "      <td>7.000000e+08</td>\n",
       "      <td>2.000000e+06</td>\n",
       "      <td>1012.000000</td>\n",
       "      <td>99.000000</td>\n",
       "      <td>99.000000</td>\n",
       "    </tr>\n",
       "  </tbody>\n",
       "</table>\n",
       "</div>"
      ],
      "text/plain": [
       "              index    Respondent     CompTotal  ConvertedComp   WorkWeekHrs  \\\n",
       "count  11398.000000  11398.000000  1.058900e+04   1.058200e+04  11276.000000   \n",
       "mean    5698.500000  12490.392437  7.570477e+05   1.315967e+05     42.064606   \n",
       "std     3290.463519   7235.461999  9.705598e+06   2.947865e+05     24.672741   \n",
       "min        0.000000      4.000000  0.000000e+00   0.000000e+00      3.000000   \n",
       "25%     2849.250000   6264.250000  2.500000e+04   2.686800e+04     40.000000   \n",
       "50%     5698.500000  12484.000000  6.500000e+04   5.774500e+04     40.000000   \n",
       "75%     8547.750000  18784.750000  1.200000e+05   1.000000e+05     43.000000   \n",
       "max    11397.000000  25142.000000  7.000000e+08   2.000000e+06   1012.000000   \n",
       "\n",
       "        CodeRevHrs           Age  \n",
       "count  8972.000000  11111.000000  \n",
       "mean      4.781071     30.779318  \n",
       "std       4.567060      7.393680  \n",
       "min       0.000000     16.000000  \n",
       "25%       2.000000     25.000000  \n",
       "50%       4.000000     29.000000  \n",
       "75%       5.000000     35.000000  \n",
       "max      99.000000     99.000000  "
      ]
     },
     "execution_count": 44,
     "metadata": {},
     "output_type": "execute_result"
    }
   ],
   "source": [
    "master.describe()"
   ]
  },
  {
   "cell_type": "code",
   "execution_count": 46,
   "metadata": {},
   "outputs": [
    {
     "data": {
      "text/plain": [
       "Index(['index', 'Respondent', 'MainBranch', 'Hobbyist', 'OpenSourcer',\n",
       "       'OpenSource', 'Employment', 'Country', 'Student', 'EdLevel',\n",
       "       'UndergradMajor', 'OrgSize', 'YearsCode', 'Age1stCode', 'YearsCodePro',\n",
       "       'CareerSat', 'JobSat', 'MgrIdiot', 'MgrMoney', 'MgrWant', 'JobSeek',\n",
       "       'LastHireDate', 'FizzBuzz', 'ResumeUpdate', 'CurrencySymbol',\n",
       "       'CurrencyDesc', 'CompTotal', 'CompFreq', 'ConvertedComp', 'WorkWeekHrs',\n",
       "       'WorkRemote', 'WorkLoc', 'ImpSyn', 'CodeRev', 'CodeRevHrs', 'UnitTests',\n",
       "       'PurchaseHow', 'PurchaseWhat', 'OpSys', 'BlockchainOrg', 'BlockchainIs',\n",
       "       'BetterLife', 'ITperson', 'OffOn', 'SocialMedia', 'Extraversion',\n",
       "       'ScreenName', 'SOVisit1st', 'SOVisitFreq', 'SOFindAnswer',\n",
       "       'SOTimeSaved', 'SOHowMuchTime', 'SOAccount', 'SOPartFreq', 'SOJobs',\n",
       "       'EntTeams', 'SOComm', 'WelcomeChange', 'Age', 'Trans', 'Dependents',\n",
       "       'SurveyLength', 'SurveyEase'],\n",
       "      dtype='object')"
      ]
     },
     "execution_count": 46,
     "metadata": {},
     "output_type": "execute_result"
    }
   ],
   "source": [
    "master.columns"
   ]
  },
  {
   "cell_type": "code",
   "execution_count": 47,
   "metadata": {},
   "outputs": [
    {
     "data": {
      "text/plain": [
       "0         61000.0\n",
       "1         95179.0\n",
       "2         90000.0\n",
       "3        455352.0\n",
       "4         65277.0\n",
       "           ...   \n",
       "11393    130000.0\n",
       "11394     19880.0\n",
       "11395    105000.0\n",
       "11396     80371.0\n",
       "11397         NaN\n",
       "Name: ConvertedComp, Length: 11398, dtype: float64"
      ]
     },
     "execution_count": 47,
     "metadata": {},
     "output_type": "execute_result"
    }
   ],
   "source": [
    "master['ConvertedComp']"
   ]
  },
  {
   "cell_type": "code",
   "execution_count": 48,
   "metadata": {},
   "outputs": [
    {
     "data": {
      "text/plain": [
       "Index(['index', 'Respondent', 'MainBranch', 'Hobbyist', 'OpenSourcer',\n",
       "       'OpenSource', 'Employment', 'Country', 'Student', 'EdLevel',\n",
       "       'UndergradMajor', 'OrgSize', 'YearsCode', 'Age1stCode', 'YearsCodePro',\n",
       "       'CareerSat', 'JobSat', 'MgrIdiot', 'MgrMoney', 'MgrWant', 'JobSeek',\n",
       "       'LastHireDate', 'FizzBuzz', 'ResumeUpdate', 'CurrencySymbol',\n",
       "       'CurrencyDesc', 'CompTotal', 'CompFreq', 'ConvertedComp', 'WorkWeekHrs',\n",
       "       'WorkRemote', 'WorkLoc', 'ImpSyn', 'CodeRev', 'CodeRevHrs', 'UnitTests',\n",
       "       'PurchaseHow', 'PurchaseWhat', 'OpSys', 'BlockchainOrg', 'BlockchainIs',\n",
       "       'BetterLife', 'ITperson', 'OffOn', 'SocialMedia', 'Extraversion',\n",
       "       'ScreenName', 'SOVisit1st', 'SOVisitFreq', 'SOFindAnswer',\n",
       "       'SOTimeSaved', 'SOHowMuchTime', 'SOAccount', 'SOPartFreq', 'SOJobs',\n",
       "       'EntTeams', 'SOComm', 'WelcomeChange', 'Age', 'Trans', 'Dependents',\n",
       "       'SurveyLength', 'SurveyEase', 'Sub Region', 'Region', 'Gender'],\n",
       "      dtype='object')"
      ]
     },
     "execution_count": 48,
     "metadata": {},
     "output_type": "execute_result"
    }
   ],
   "source": [
    "data.columns"
   ]
  },
  {
   "cell_type": "code",
   "execution_count": 51,
   "metadata": {},
   "outputs": [
    {
     "data": {
      "text/plain": [
       "Age           133.0\n",
       "Respondent    839.0\n",
       "dtype: float64"
      ]
     },
     "execution_count": 51,
     "metadata": {},
     "output_type": "execute_result"
    }
   ],
   "source": [
    "data.loc[(data['Age']<23)].groupby(['Age'],as_index=False)['Respondent'].count().sum()"
   ]
  },
  {
   "cell_type": "code",
   "execution_count": 55,
   "metadata": {},
   "outputs": [
    {
     "data": {
      "text/plain": [
       "Age            527.0\n",
       "Respondent    9007.0\n",
       "dtype: float64"
      ]
     },
     "execution_count": 55,
     "metadata": {},
     "output_type": "execute_result"
    }
   ],
   "source": [
    "data.loc[(data['Age']>=23) & (data['Age']<40)].groupby(['Age'],as_index=False)['Respondent'].count().sum()"
   ]
  },
  {
   "cell_type": "code",
   "execution_count": 56,
   "metadata": {},
   "outputs": [
    {
     "data": {
      "text/plain": [
       "Age           1236.0\n",
       "Respondent    1306.0\n",
       "dtype: float64"
      ]
     },
     "execution_count": 56,
     "metadata": {},
     "output_type": "execute_result"
    }
   ],
   "source": [
    "data.loc[(data['Age']>=40) & (data['Age']<65)].groupby(['Age'],as_index=False)['Respondent'].count().sum()"
   ]
  },
  {
   "cell_type": "code",
   "execution_count": 57,
   "metadata": {},
   "outputs": [
    {
     "data": {
      "text/plain": [
       "Age           509.0\n",
       "Respondent      9.0\n",
       "dtype: float64"
      ]
     },
     "execution_count": 57,
     "metadata": {},
     "output_type": "execute_result"
    }
   ],
   "source": [
    "data.loc[(data['Age']>=65)].groupby(['Age'],as_index=False)['Respondent'].count().sum()"
   ]
  },
  {
   "cell_type": "code",
   "execution_count": null,
   "metadata": {},
   "outputs": [],
   "source": []
  }
 ],
 "metadata": {
  "kernelspec": {
   "display_name": "Python 3",
   "language": "python",
   "name": "python3"
  },
  "language_info": {
   "codemirror_mode": {
    "name": "ipython",
    "version": 3
   },
   "file_extension": ".py",
   "mimetype": "text/x-python",
   "name": "python",
   "nbconvert_exporter": "python",
   "pygments_lexer": "ipython3",
   "version": "3.8.5"
  }
 },
 "nbformat": 4,
 "nbformat_minor": 4
}
