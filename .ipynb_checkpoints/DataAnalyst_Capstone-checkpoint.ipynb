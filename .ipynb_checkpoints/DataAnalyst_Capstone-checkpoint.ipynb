{
 "cells": [
  {
   "cell_type": "code",
   "execution_count": null,
   "metadata": {},
   "outputs": [],
   "source": [
    "!wget https://cf-courses-data.s3.us.cloud-object-storage.appdomain.cloud/IBM-DA0321EN-SkillsNetwork/LargeData/m4_survey_data.sqlite\n",
    "!mv m4_survey_data.sqlite ./files"
   ]
  },
  {
   "cell_type": "code",
   "execution_count": null,
   "metadata": {},
   "outputs": [],
   "source": [
    "from glob import glob\n",
    "import pandas as pd\n",
    "import sqlite3\n",
    "import os"
   ]
  },
  {
   "cell_type": "code",
   "execution_count": null,
   "metadata": {},
   "outputs": [],
   "source": [
    "path_SQL = r'./files/*.sqlite'\n",
    "sql = glob(os.path.join(path_SQL))[0]"
   ]
  },
  {
   "cell_type": "code",
   "execution_count": null,
   "metadata": {},
   "outputs": [],
   "source": [
    "conn = sqlite3.connect(sql)"
   ]
  },
  {
   "cell_type": "code",
   "execution_count": null,
   "metadata": {},
   "outputs": [],
   "source": [
    "query = '''\n",
    "    select name as Table_Name from sqlite_master where\n",
    "    type = 'table';\n",
    "'''\n",
    "\n",
    "tables = pd.read_sql_query(query,conn)\n",
    "tables"
   ]
  },
  {
   "cell_type": "code",
   "execution_count": null,
   "metadata": {},
   "outputs": [],
   "source": [
    "EduOther = pd.read_sql_query('Select * from EduOther;',conn)\n",
    "DevType = pd.read_sql_query('Select * from DevType;',conn)\n",
    "LastInt = pd.read_sql_query('Select * from LastInt;',conn)\n",
    "JobFactors = pd.read_sql_query('Select * from JobFactors;',conn)\n",
    "WorkPlan = pd.read_sql_query('Select * from WorkPlan;',conn)\n",
    "WorkChallenge = pd.read_sql_query('Select * from WorkChallenge;',conn)\n",
    "LanguageWorkedWith = pd.read_sql_query('Select * from LanguageWorkedWith;',conn)\n",
    "LanguageDesireNextYear = pd.read_sql_query('Select * from LanguageDesireNextYear;',conn)\n",
    "DatabaseWorkedWith = pd.read_sql_query('Select * from DatabaseWorkedWith;',conn)\n",
    "DatabaseDesireNextYear = pd.read_sql_query('Select * from DatabaseDesireNextYear;',conn)\n",
    "PlatformWorkedWith = pd.read_sql_query('Select * from PlatformWorkedWith;',conn)\n",
    "PlatformDesireNextYear = pd.read_sql_query('Select * from PlatformDesireNextYear;',conn)\n",
    "WebFrameWorkedWith = pd.read_sql_query('Select * from WebFrameWorkedWith;',conn)\n",
    "WebFrameDesireNextYear = pd.read_sql_query('Select * from WebFrameDesireNextYear;',conn)\n",
    "MiscTechWorkedWith = pd.read_sql_query('Select * from MiscTechWorkedWith;',conn)\n",
    "MiscTechDesireNextYear = pd.read_sql_query('Select * from MiscTechDesireNextYear;',conn)\n",
    "DevEnviron = pd.read_sql_query('Select * from DevEnviron;',conn)\n",
    "Containers = pd.read_sql_query('Select * from Containers;',conn)\n",
    "SOVisitTo = pd.read_sql_query('Select * from SOVisitTo;',conn)\n",
    "SONewContent = pd.read_sql_query('Select * from SONewContent;',conn)\n",
    "Gender = pd.read_sql_query('Select * from Gender;',conn)\n",
    "Sexuality = pd.read_sql_query('Select * from Sexuality;',conn)\n",
    "Ethnicity = pd.read_sql_query('Select * from Ethnicity;',conn)\n",
    "master = pd.read_sql_query('Select * from master;',conn)"
   ]
  },
  {
   "cell_type": "code",
   "execution_count": null,
   "metadata": {},
   "outputs": [],
   "source": [
    "conn.close()"
   ]
  },
  {
   "cell_type": "code",
   "execution_count": null,
   "metadata": {},
   "outputs": [],
   "source": [
    "db = master.join(EduOther.set_index(['Respondent']),on=['Respondent'])\n",
    "db = db.join(DevType.set_index(['Respondent']), on=['Respondent'])\n",
    "db = db.join(LastInt.set_index(['Respondent']), on=['Respondent'])\n",
    "db = db.join(JobFactors.set_index(['Respondent']), on=['Respondent'])\n",
    "db = db.join(WorkPlan.set_index(['Respondent']), on=['Respondent'])\n",
    "db = db.join(WorkChallenge.set_index(['Respondent']), on=['Respondent'])\n",
    "db = db.join(LanguageWorkedWith.set_index(['Respondent']), on=['Respondent'])\n",
    "db = db.join(LanguageDesireNextYear.set_index(['Respondent']), on=['Respondent'])\n",
    "db = db.join(DatabaseWorkedWith.set_index(['Respondent']), on=['Respondent'])\n",
    "\n",
    "db = db.join(DatabaseDesireNextYear.set_index(['Respondent']), on=['Respondent'])\n",
    "db = db.join(PlatformWorkedWith.set_index(['Respondent']), on=['Respondent'])\n",
    "db = db.join(PlatformDesireNextYear.set_index(['Respondent']), on=['Respondent'])\n",
    "db = db.join(WebFrameWorkedWith.set_index(['Respondent']), on=['Respondent'])\n",
    "db = db.join(WebFrameDesireNextYear.set_index(['Respondent']), on=['Respondent'])\n",
    "db = db.join(MiscTechWorkedWith.set_index(['Respondent']), on=['Respondent'])\n",
    "db = db.join(MiscTechDesireNextYear.set_index(['Respondent']), on=['Respondent'])\n",
    "db = db.join(DevEnviron.set_index(['Respondent']), on=['Respondent'])\n",
    "db = db.join(Containers.set_index(['Respondent']), on=['Respondent'])\n",
    "db = db.join(SOVisitTo.set_index(['Respondent']), on=['Respondent'])\n",
    "db = db.join(SONewContent.set_index(['Respondent']), on=['Respondent'])\n",
    "db = db.join(Sexuality.set_index(['Respondent']), on=['Respondent'])\n",
    "db = db.join(Ethnicity.set_index(['Respondent']), on=['Respondent'])\n",
    "db.head()"
   ]
  },
  {
   "cell_type": "code",
   "execution_count": null,
   "metadata": {},
   "outputs": [],
   "source": []
  }
 ],
 "metadata": {
  "kernelspec": {
   "display_name": "Python 3",
   "language": "python",
   "name": "python3"
  },
  "language_info": {
   "codemirror_mode": {
    "name": "ipython",
    "version": 3
   },
   "file_extension": ".py",
   "mimetype": "text/x-python",
   "name": "python",
   "nbconvert_exporter": "python",
   "pygments_lexer": "ipython3",
   "version": "3.8.5"
  }
 },
 "nbformat": 4,
 "nbformat_minor": 4
}
